{
  "cells": [
    {
      "cell_type": "markdown",
      "metadata": {
        "id": "e1ddf-ga_QC2"
      },
      "source": [
        "#✈️ Customer Satisfaction Prediction"
      ]
    },
    {
      "cell_type": "markdown",
      "metadata": {
        "id": "f1nBzge205Dc"
      },
      "source": [
        "## Data Acquisition and Understanding"
      ]
    },
    {
      "cell_type": "markdown",
      "metadata": {
        "id": "v5IffL22OpFk"
      },
      "source": [
        "### Importing the packages and exploring the data"
      ]
    },
    {
      "cell_type": "code",
      "execution_count": null,
      "metadata": {
        "colab": {
          "base_uri": "https://localhost:8080/",
          "height": 34
        },
        "id": "0U6m58Zk036F",
        "outputId": "66544fe7-7641-45a6-babb-d4b7fda832c9"
      },
      "outputs": [
        {
          "output_type": "display_data",
          "data": {
            "text/plain": [
              "<Figure size 432x288 with 0 Axes>"
            ]
          },
          "metadata": {}
        }
      ],
      "source": [
        "import numpy as np\n",
        "import pandas as pd\n",
        "import matplotlib.pyplot as plt\n",
        "from collections import Counter\n",
        "import seaborn as sns\n",
        "\n",
        "from sklearn import preprocessing\n",
        "from sklearn.model_selection import train_test_split\n",
        "from sklearn.pipeline import make_pipeline\n",
        "from sklearn.feature_selection import RFE\n",
        "from sklearn.metrics import f1_score\n",
        "from sklearn.metrics import accuracy_score\n",
        "from sklearn.metrics import confusion_matrix, classification_report, ConfusionMatrixDisplay, plot_roc_curve, roc_curve, roc_auc_score\n",
        "\n",
        "from sklearn.model_selection import StratifiedKFold\n",
        "from sklearn.ensemble import GradientBoostingClassifier, AdaBoostClassifier\n",
        "from imblearn.over_sampling import RandomOverSampler\n",
        "\n",
        "from mlxtend.plotting import plot_confusion_matrix\n",
        "import warnings\n",
        "warnings.filterwarnings(\"ignore\")\n",
        "sns.despine()\n",
        "sns.set(style='white')\n",
        "sns.set_palette('rocket_r')"
      ]
    },
    {
      "cell_type": "code",
      "execution_count": null,
      "metadata": {
        "colab": {
          "base_uri": "https://localhost:8080/",
          "height": 473
        },
        "id": "YcT6jS9kZCmu",
        "outputId": "0703653c-59ec-43ea-b543-02a1299b9139"
      },
      "outputs": [
        {
          "output_type": "stream",
          "name": "stdout",
          "text": [
            "Mounted at /content/drive\n"
          ]
        },
        {
          "output_type": "display_data",
          "data": {
            "text/plain": [
              "  satisfaction  Gender   Customer Type  Age   Type of Travel     Class  \\\n",
              "0    satisfied  Female  Loyal Customer   65  Personal Travel       Eco   \n",
              "1    satisfied    Male  Loyal Customer   47  Personal Travel  Business   \n",
              "2    satisfied  Female  Loyal Customer   15  Personal Travel       Eco   \n",
              "3    satisfied  Female  Loyal Customer   60  Personal Travel       Eco   \n",
              "4    satisfied  Female  Loyal Customer   70  Personal Travel       Eco   \n",
              "\n",
              "   Flight Distance  Seat comfort  Departure/Arrival time convenient  \\\n",
              "0              265             0                                  0   \n",
              "1             2464             0                                  0   \n",
              "2             2138             0                                  0   \n",
              "3              623             0                                  0   \n",
              "4              354             0                                  0   \n",
              "\n",
              "   Food and drink  ...  Online support  Ease of Online booking  \\\n",
              "0               0  ...               2                       3   \n",
              "1               0  ...               2                       3   \n",
              "2               0  ...               2                       2   \n",
              "3               0  ...               3                       1   \n",
              "4               0  ...               4                       2   \n",
              "\n",
              "   On-board service  Leg room service  Baggage handling  Checkin service  \\\n",
              "0                 3                 0                 3                5   \n",
              "1                 4                 4                 4                2   \n",
              "2                 3                 3                 4                4   \n",
              "3                 1                 0                 1                4   \n",
              "4                 2                 0                 2                4   \n",
              "\n",
              "   Cleanliness  Online boarding  Departure Delay in Minutes  \\\n",
              "0            3                2                           0   \n",
              "1            3                2                         310   \n",
              "2            4                2                           0   \n",
              "3            1                3                           0   \n",
              "4            2                5                           0   \n",
              "\n",
              "   Arrival Delay in Minutes  \n",
              "0                       0.0  \n",
              "1                     305.0  \n",
              "2                       0.0  \n",
              "3                       0.0  \n",
              "4                       0.0  \n",
              "\n",
              "[5 rows x 23 columns]"
            ],
            "text/html": [
              "\n",
              "  <div id=\"df-3798a290-0378-4ab5-a8c0-be2602b0540d\">\n",
              "    <div class=\"colab-df-container\">\n",
              "      <div>\n",
              "<style scoped>\n",
              "    .dataframe tbody tr th:only-of-type {\n",
              "        vertical-align: middle;\n",
              "    }\n",
              "\n",
              "    .dataframe tbody tr th {\n",
              "        vertical-align: top;\n",
              "    }\n",
              "\n",
              "    .dataframe thead th {\n",
              "        text-align: right;\n",
              "    }\n",
              "</style>\n",
              "<table border=\"1\" class=\"dataframe\">\n",
              "  <thead>\n",
              "    <tr style=\"text-align: right;\">\n",
              "      <th></th>\n",
              "      <th>satisfaction</th>\n",
              "      <th>Gender</th>\n",
              "      <th>Customer Type</th>\n",
              "      <th>Age</th>\n",
              "      <th>Type of Travel</th>\n",
              "      <th>Class</th>\n",
              "      <th>Flight Distance</th>\n",
              "      <th>Seat comfort</th>\n",
              "      <th>Departure/Arrival time convenient</th>\n",
              "      <th>Food and drink</th>\n",
              "      <th>...</th>\n",
              "      <th>Online support</th>\n",
              "      <th>Ease of Online booking</th>\n",
              "      <th>On-board service</th>\n",
              "      <th>Leg room service</th>\n",
              "      <th>Baggage handling</th>\n",
              "      <th>Checkin service</th>\n",
              "      <th>Cleanliness</th>\n",
              "      <th>Online boarding</th>\n",
              "      <th>Departure Delay in Minutes</th>\n",
              "      <th>Arrival Delay in Minutes</th>\n",
              "    </tr>\n",
              "  </thead>\n",
              "  <tbody>\n",
              "    <tr>\n",
              "      <th>0</th>\n",
              "      <td>satisfied</td>\n",
              "      <td>Female</td>\n",
              "      <td>Loyal Customer</td>\n",
              "      <td>65</td>\n",
              "      <td>Personal Travel</td>\n",
              "      <td>Eco</td>\n",
              "      <td>265</td>\n",
              "      <td>0</td>\n",
              "      <td>0</td>\n",
              "      <td>0</td>\n",
              "      <td>...</td>\n",
              "      <td>2</td>\n",
              "      <td>3</td>\n",
              "      <td>3</td>\n",
              "      <td>0</td>\n",
              "      <td>3</td>\n",
              "      <td>5</td>\n",
              "      <td>3</td>\n",
              "      <td>2</td>\n",
              "      <td>0</td>\n",
              "      <td>0.0</td>\n",
              "    </tr>\n",
              "    <tr>\n",
              "      <th>1</th>\n",
              "      <td>satisfied</td>\n",
              "      <td>Male</td>\n",
              "      <td>Loyal Customer</td>\n",
              "      <td>47</td>\n",
              "      <td>Personal Travel</td>\n",
              "      <td>Business</td>\n",
              "      <td>2464</td>\n",
              "      <td>0</td>\n",
              "      <td>0</td>\n",
              "      <td>0</td>\n",
              "      <td>...</td>\n",
              "      <td>2</td>\n",
              "      <td>3</td>\n",
              "      <td>4</td>\n",
              "      <td>4</td>\n",
              "      <td>4</td>\n",
              "      <td>2</td>\n",
              "      <td>3</td>\n",
              "      <td>2</td>\n",
              "      <td>310</td>\n",
              "      <td>305.0</td>\n",
              "    </tr>\n",
              "    <tr>\n",
              "      <th>2</th>\n",
              "      <td>satisfied</td>\n",
              "      <td>Female</td>\n",
              "      <td>Loyal Customer</td>\n",
              "      <td>15</td>\n",
              "      <td>Personal Travel</td>\n",
              "      <td>Eco</td>\n",
              "      <td>2138</td>\n",
              "      <td>0</td>\n",
              "      <td>0</td>\n",
              "      <td>0</td>\n",
              "      <td>...</td>\n",
              "      <td>2</td>\n",
              "      <td>2</td>\n",
              "      <td>3</td>\n",
              "      <td>3</td>\n",
              "      <td>4</td>\n",
              "      <td>4</td>\n",
              "      <td>4</td>\n",
              "      <td>2</td>\n",
              "      <td>0</td>\n",
              "      <td>0.0</td>\n",
              "    </tr>\n",
              "    <tr>\n",
              "      <th>3</th>\n",
              "      <td>satisfied</td>\n",
              "      <td>Female</td>\n",
              "      <td>Loyal Customer</td>\n",
              "      <td>60</td>\n",
              "      <td>Personal Travel</td>\n",
              "      <td>Eco</td>\n",
              "      <td>623</td>\n",
              "      <td>0</td>\n",
              "      <td>0</td>\n",
              "      <td>0</td>\n",
              "      <td>...</td>\n",
              "      <td>3</td>\n",
              "      <td>1</td>\n",
              "      <td>1</td>\n",
              "      <td>0</td>\n",
              "      <td>1</td>\n",
              "      <td>4</td>\n",
              "      <td>1</td>\n",
              "      <td>3</td>\n",
              "      <td>0</td>\n",
              "      <td>0.0</td>\n",
              "    </tr>\n",
              "    <tr>\n",
              "      <th>4</th>\n",
              "      <td>satisfied</td>\n",
              "      <td>Female</td>\n",
              "      <td>Loyal Customer</td>\n",
              "      <td>70</td>\n",
              "      <td>Personal Travel</td>\n",
              "      <td>Eco</td>\n",
              "      <td>354</td>\n",
              "      <td>0</td>\n",
              "      <td>0</td>\n",
              "      <td>0</td>\n",
              "      <td>...</td>\n",
              "      <td>4</td>\n",
              "      <td>2</td>\n",
              "      <td>2</td>\n",
              "      <td>0</td>\n",
              "      <td>2</td>\n",
              "      <td>4</td>\n",
              "      <td>2</td>\n",
              "      <td>5</td>\n",
              "      <td>0</td>\n",
              "      <td>0.0</td>\n",
              "    </tr>\n",
              "  </tbody>\n",
              "</table>\n",
              "<p>5 rows × 23 columns</p>\n",
              "</div>\n",
              "      <button class=\"colab-df-convert\" onclick=\"convertToInteractive('df-3798a290-0378-4ab5-a8c0-be2602b0540d')\"\n",
              "              title=\"Convert this dataframe to an interactive table.\"\n",
              "              style=\"display:none;\">\n",
              "        \n",
              "  <svg xmlns=\"http://www.w3.org/2000/svg\" height=\"24px\"viewBox=\"0 0 24 24\"\n",
              "       width=\"24px\">\n",
              "    <path d=\"M0 0h24v24H0V0z\" fill=\"none\"/>\n",
              "    <path d=\"M18.56 5.44l.94 2.06.94-2.06 2.06-.94-2.06-.94-.94-2.06-.94 2.06-2.06.94zm-11 1L8.5 8.5l.94-2.06 2.06-.94-2.06-.94L8.5 2.5l-.94 2.06-2.06.94zm10 10l.94 2.06.94-2.06 2.06-.94-2.06-.94-.94-2.06-.94 2.06-2.06.94z\"/><path d=\"M17.41 7.96l-1.37-1.37c-.4-.4-.92-.59-1.43-.59-.52 0-1.04.2-1.43.59L10.3 9.45l-7.72 7.72c-.78.78-.78 2.05 0 2.83L4 21.41c.39.39.9.59 1.41.59.51 0 1.02-.2 1.41-.59l7.78-7.78 2.81-2.81c.8-.78.8-2.07 0-2.86zM5.41 20L4 18.59l7.72-7.72 1.47 1.35L5.41 20z\"/>\n",
              "  </svg>\n",
              "      </button>\n",
              "      \n",
              "  <style>\n",
              "    .colab-df-container {\n",
              "      display:flex;\n",
              "      flex-wrap:wrap;\n",
              "      gap: 12px;\n",
              "    }\n",
              "\n",
              "    .colab-df-convert {\n",
              "      background-color: #E8F0FE;\n",
              "      border: none;\n",
              "      border-radius: 50%;\n",
              "      cursor: pointer;\n",
              "      display: none;\n",
              "      fill: #1967D2;\n",
              "      height: 32px;\n",
              "      padding: 0 0 0 0;\n",
              "      width: 32px;\n",
              "    }\n",
              "\n",
              "    .colab-df-convert:hover {\n",
              "      background-color: #E2EBFA;\n",
              "      box-shadow: 0px 1px 2px rgba(60, 64, 67, 0.3), 0px 1px 3px 1px rgba(60, 64, 67, 0.15);\n",
              "      fill: #174EA6;\n",
              "    }\n",
              "\n",
              "    [theme=dark] .colab-df-convert {\n",
              "      background-color: #3B4455;\n",
              "      fill: #D2E3FC;\n",
              "    }\n",
              "\n",
              "    [theme=dark] .colab-df-convert:hover {\n",
              "      background-color: #434B5C;\n",
              "      box-shadow: 0px 1px 3px 1px rgba(0, 0, 0, 0.15);\n",
              "      filter: drop-shadow(0px 1px 2px rgba(0, 0, 0, 0.3));\n",
              "      fill: #FFFFFF;\n",
              "    }\n",
              "  </style>\n",
              "\n",
              "      <script>\n",
              "        const buttonEl =\n",
              "          document.querySelector('#df-3798a290-0378-4ab5-a8c0-be2602b0540d button.colab-df-convert');\n",
              "        buttonEl.style.display =\n",
              "          google.colab.kernel.accessAllowed ? 'block' : 'none';\n",
              "\n",
              "        async function convertToInteractive(key) {\n",
              "          const element = document.querySelector('#df-3798a290-0378-4ab5-a8c0-be2602b0540d');\n",
              "          const dataTable =\n",
              "            await google.colab.kernel.invokeFunction('convertToInteractive',\n",
              "                                                     [key], {});\n",
              "          if (!dataTable) return;\n",
              "\n",
              "          const docLinkHtml = 'Like what you see? Visit the ' +\n",
              "            '<a target=\"_blank\" href=https://colab.research.google.com/notebooks/data_table.ipynb>data table notebook</a>'\n",
              "            + ' to learn more about interactive tables.';\n",
              "          element.innerHTML = '';\n",
              "          dataTable['output_type'] = 'display_data';\n",
              "          await google.colab.output.renderOutput(dataTable, element);\n",
              "          const docLink = document.createElement('div');\n",
              "          docLink.innerHTML = docLinkHtml;\n",
              "          element.appendChild(docLink);\n",
              "        }\n",
              "      </script>\n",
              "    </div>\n",
              "  </div>\n",
              "  "
            ]
          },
          "metadata": {}
        },
        {
          "output_type": "stream",
          "name": "stdout",
          "text": [
            "Shape: (129880, 23)\n"
          ]
        }
      ],
      "source": [
        "from google.colab import drive\n",
        "drive.mount('/content/drive')\n",
        "df =  pd.read_csv('/content/drive/MyDrive/Invistico_Airline.csv')\n",
        "display(df.head())\n",
        "print('Shape:',df.shape)"
      ]
    },
    {
      "cell_type": "code",
      "execution_count": null,
      "metadata": {
        "colab": {
          "base_uri": "https://localhost:8080/",
          "height": 770
        },
        "id": "zHQSZ-beOT1g",
        "outputId": "9afbed62-5f6f-48fb-b993-8ada724fe841"
      },
      "outputs": [
        {
          "output_type": "execute_result",
          "data": {
            "text/plain": [
              "                               column   dtypes  nunique  sum_null\n",
              "0                        satisfaction   object        2         0\n",
              "1                              Gender   object        2         0\n",
              "2                       Customer Type   object        2         0\n",
              "3                                 Age    int64       75         0\n",
              "4                      Type of Travel   object        2         0\n",
              "5                               Class   object        3         0\n",
              "6                     Flight Distance    int64     5398         0\n",
              "7                        Seat comfort    int64        6         0\n",
              "8   Departure/Arrival time convenient    int64        6         0\n",
              "9                      Food and drink    int64        6         0\n",
              "10                      Gate location    int64        6         0\n",
              "11              Inflight wifi service    int64        6         0\n",
              "12             Inflight entertainment    int64        6         0\n",
              "13                     Online support    int64        6         0\n",
              "14             Ease of Online booking    int64        6         0\n",
              "15                   On-board service    int64        6         0\n",
              "16                   Leg room service    int64        6         0\n",
              "17                   Baggage handling    int64        5         0\n",
              "18                    Checkin service    int64        6         0\n",
              "19                        Cleanliness    int64        6         0\n",
              "20                    Online boarding    int64        6         0\n",
              "21         Departure Delay in Minutes    int64      466         0\n",
              "22           Arrival Delay in Minutes  float64      472       393"
            ],
            "text/html": [
              "\n",
              "  <div id=\"df-94862348-f844-46ab-af0a-5f24de48533f\">\n",
              "    <div class=\"colab-df-container\">\n",
              "      <div>\n",
              "<style scoped>\n",
              "    .dataframe tbody tr th:only-of-type {\n",
              "        vertical-align: middle;\n",
              "    }\n",
              "\n",
              "    .dataframe tbody tr th {\n",
              "        vertical-align: top;\n",
              "    }\n",
              "\n",
              "    .dataframe thead th {\n",
              "        text-align: right;\n",
              "    }\n",
              "</style>\n",
              "<table border=\"1\" class=\"dataframe\">\n",
              "  <thead>\n",
              "    <tr style=\"text-align: right;\">\n",
              "      <th></th>\n",
              "      <th>column</th>\n",
              "      <th>dtypes</th>\n",
              "      <th>nunique</th>\n",
              "      <th>sum_null</th>\n",
              "    </tr>\n",
              "  </thead>\n",
              "  <tbody>\n",
              "    <tr>\n",
              "      <th>0</th>\n",
              "      <td>satisfaction</td>\n",
              "      <td>object</td>\n",
              "      <td>2</td>\n",
              "      <td>0</td>\n",
              "    </tr>\n",
              "    <tr>\n",
              "      <th>1</th>\n",
              "      <td>Gender</td>\n",
              "      <td>object</td>\n",
              "      <td>2</td>\n",
              "      <td>0</td>\n",
              "    </tr>\n",
              "    <tr>\n",
              "      <th>2</th>\n",
              "      <td>Customer Type</td>\n",
              "      <td>object</td>\n",
              "      <td>2</td>\n",
              "      <td>0</td>\n",
              "    </tr>\n",
              "    <tr>\n",
              "      <th>3</th>\n",
              "      <td>Age</td>\n",
              "      <td>int64</td>\n",
              "      <td>75</td>\n",
              "      <td>0</td>\n",
              "    </tr>\n",
              "    <tr>\n",
              "      <th>4</th>\n",
              "      <td>Type of Travel</td>\n",
              "      <td>object</td>\n",
              "      <td>2</td>\n",
              "      <td>0</td>\n",
              "    </tr>\n",
              "    <tr>\n",
              "      <th>5</th>\n",
              "      <td>Class</td>\n",
              "      <td>object</td>\n",
              "      <td>3</td>\n",
              "      <td>0</td>\n",
              "    </tr>\n",
              "    <tr>\n",
              "      <th>6</th>\n",
              "      <td>Flight Distance</td>\n",
              "      <td>int64</td>\n",
              "      <td>5398</td>\n",
              "      <td>0</td>\n",
              "    </tr>\n",
              "    <tr>\n",
              "      <th>7</th>\n",
              "      <td>Seat comfort</td>\n",
              "      <td>int64</td>\n",
              "      <td>6</td>\n",
              "      <td>0</td>\n",
              "    </tr>\n",
              "    <tr>\n",
              "      <th>8</th>\n",
              "      <td>Departure/Arrival time convenient</td>\n",
              "      <td>int64</td>\n",
              "      <td>6</td>\n",
              "      <td>0</td>\n",
              "    </tr>\n",
              "    <tr>\n",
              "      <th>9</th>\n",
              "      <td>Food and drink</td>\n",
              "      <td>int64</td>\n",
              "      <td>6</td>\n",
              "      <td>0</td>\n",
              "    </tr>\n",
              "    <tr>\n",
              "      <th>10</th>\n",
              "      <td>Gate location</td>\n",
              "      <td>int64</td>\n",
              "      <td>6</td>\n",
              "      <td>0</td>\n",
              "    </tr>\n",
              "    <tr>\n",
              "      <th>11</th>\n",
              "      <td>Inflight wifi service</td>\n",
              "      <td>int64</td>\n",
              "      <td>6</td>\n",
              "      <td>0</td>\n",
              "    </tr>\n",
              "    <tr>\n",
              "      <th>12</th>\n",
              "      <td>Inflight entertainment</td>\n",
              "      <td>int64</td>\n",
              "      <td>6</td>\n",
              "      <td>0</td>\n",
              "    </tr>\n",
              "    <tr>\n",
              "      <th>13</th>\n",
              "      <td>Online support</td>\n",
              "      <td>int64</td>\n",
              "      <td>6</td>\n",
              "      <td>0</td>\n",
              "    </tr>\n",
              "    <tr>\n",
              "      <th>14</th>\n",
              "      <td>Ease of Online booking</td>\n",
              "      <td>int64</td>\n",
              "      <td>6</td>\n",
              "      <td>0</td>\n",
              "    </tr>\n",
              "    <tr>\n",
              "      <th>15</th>\n",
              "      <td>On-board service</td>\n",
              "      <td>int64</td>\n",
              "      <td>6</td>\n",
              "      <td>0</td>\n",
              "    </tr>\n",
              "    <tr>\n",
              "      <th>16</th>\n",
              "      <td>Leg room service</td>\n",
              "      <td>int64</td>\n",
              "      <td>6</td>\n",
              "      <td>0</td>\n",
              "    </tr>\n",
              "    <tr>\n",
              "      <th>17</th>\n",
              "      <td>Baggage handling</td>\n",
              "      <td>int64</td>\n",
              "      <td>5</td>\n",
              "      <td>0</td>\n",
              "    </tr>\n",
              "    <tr>\n",
              "      <th>18</th>\n",
              "      <td>Checkin service</td>\n",
              "      <td>int64</td>\n",
              "      <td>6</td>\n",
              "      <td>0</td>\n",
              "    </tr>\n",
              "    <tr>\n",
              "      <th>19</th>\n",
              "      <td>Cleanliness</td>\n",
              "      <td>int64</td>\n",
              "      <td>6</td>\n",
              "      <td>0</td>\n",
              "    </tr>\n",
              "    <tr>\n",
              "      <th>20</th>\n",
              "      <td>Online boarding</td>\n",
              "      <td>int64</td>\n",
              "      <td>6</td>\n",
              "      <td>0</td>\n",
              "    </tr>\n",
              "    <tr>\n",
              "      <th>21</th>\n",
              "      <td>Departure Delay in Minutes</td>\n",
              "      <td>int64</td>\n",
              "      <td>466</td>\n",
              "      <td>0</td>\n",
              "    </tr>\n",
              "    <tr>\n",
              "      <th>22</th>\n",
              "      <td>Arrival Delay in Minutes</td>\n",
              "      <td>float64</td>\n",
              "      <td>472</td>\n",
              "      <td>393</td>\n",
              "    </tr>\n",
              "  </tbody>\n",
              "</table>\n",
              "</div>\n",
              "      <button class=\"colab-df-convert\" onclick=\"convertToInteractive('df-94862348-f844-46ab-af0a-5f24de48533f')\"\n",
              "              title=\"Convert this dataframe to an interactive table.\"\n",
              "              style=\"display:none;\">\n",
              "        \n",
              "  <svg xmlns=\"http://www.w3.org/2000/svg\" height=\"24px\"viewBox=\"0 0 24 24\"\n",
              "       width=\"24px\">\n",
              "    <path d=\"M0 0h24v24H0V0z\" fill=\"none\"/>\n",
              "    <path d=\"M18.56 5.44l.94 2.06.94-2.06 2.06-.94-2.06-.94-.94-2.06-.94 2.06-2.06.94zm-11 1L8.5 8.5l.94-2.06 2.06-.94-2.06-.94L8.5 2.5l-.94 2.06-2.06.94zm10 10l.94 2.06.94-2.06 2.06-.94-2.06-.94-.94-2.06-.94 2.06-2.06.94z\"/><path d=\"M17.41 7.96l-1.37-1.37c-.4-.4-.92-.59-1.43-.59-.52 0-1.04.2-1.43.59L10.3 9.45l-7.72 7.72c-.78.78-.78 2.05 0 2.83L4 21.41c.39.39.9.59 1.41.59.51 0 1.02-.2 1.41-.59l7.78-7.78 2.81-2.81c.8-.78.8-2.07 0-2.86zM5.41 20L4 18.59l7.72-7.72 1.47 1.35L5.41 20z\"/>\n",
              "  </svg>\n",
              "      </button>\n",
              "      \n",
              "  <style>\n",
              "    .colab-df-container {\n",
              "      display:flex;\n",
              "      flex-wrap:wrap;\n",
              "      gap: 12px;\n",
              "    }\n",
              "\n",
              "    .colab-df-convert {\n",
              "      background-color: #E8F0FE;\n",
              "      border: none;\n",
              "      border-radius: 50%;\n",
              "      cursor: pointer;\n",
              "      display: none;\n",
              "      fill: #1967D2;\n",
              "      height: 32px;\n",
              "      padding: 0 0 0 0;\n",
              "      width: 32px;\n",
              "    }\n",
              "\n",
              "    .colab-df-convert:hover {\n",
              "      background-color: #E2EBFA;\n",
              "      box-shadow: 0px 1px 2px rgba(60, 64, 67, 0.3), 0px 1px 3px 1px rgba(60, 64, 67, 0.15);\n",
              "      fill: #174EA6;\n",
              "    }\n",
              "\n",
              "    [theme=dark] .colab-df-convert {\n",
              "      background-color: #3B4455;\n",
              "      fill: #D2E3FC;\n",
              "    }\n",
              "\n",
              "    [theme=dark] .colab-df-convert:hover {\n",
              "      background-color: #434B5C;\n",
              "      box-shadow: 0px 1px 3px 1px rgba(0, 0, 0, 0.15);\n",
              "      filter: drop-shadow(0px 1px 2px rgba(0, 0, 0, 0.3));\n",
              "      fill: #FFFFFF;\n",
              "    }\n",
              "  </style>\n",
              "\n",
              "      <script>\n",
              "        const buttonEl =\n",
              "          document.querySelector('#df-94862348-f844-46ab-af0a-5f24de48533f button.colab-df-convert');\n",
              "        buttonEl.style.display =\n",
              "          google.colab.kernel.accessAllowed ? 'block' : 'none';\n",
              "\n",
              "        async function convertToInteractive(key) {\n",
              "          const element = document.querySelector('#df-94862348-f844-46ab-af0a-5f24de48533f');\n",
              "          const dataTable =\n",
              "            await google.colab.kernel.invokeFunction('convertToInteractive',\n",
              "                                                     [key], {});\n",
              "          if (!dataTable) return;\n",
              "\n",
              "          const docLinkHtml = 'Like what you see? Visit the ' +\n",
              "            '<a target=\"_blank\" href=https://colab.research.google.com/notebooks/data_table.ipynb>data table notebook</a>'\n",
              "            + ' to learn more about interactive tables.';\n",
              "          element.innerHTML = '';\n",
              "          dataTable['output_type'] = 'display_data';\n",
              "          await google.colab.output.renderOutput(dataTable, element);\n",
              "          const docLink = document.createElement('div');\n",
              "          docLink.innerHTML = docLinkHtml;\n",
              "          element.appendChild(docLink);\n",
              "        }\n",
              "      </script>\n",
              "    </div>\n",
              "  </div>\n",
              "  "
            ]
          },
          "metadata": {},
          "execution_count": 3
        }
      ],
      "source": [
        "def check(df): #to check on the data\n",
        "    l=[]\n",
        "    columns=df.columns\n",
        "    for col in columns:\n",
        "        dtypes=df[col].dtypes\n",
        "        nunique=df[col].nunique()\n",
        "        sum_null=df[col].isnull().sum()\n",
        "        l.append([col,dtypes,nunique,sum_null])\n",
        "    df_check=pd.DataFrame(l)\n",
        "    df_check.columns=['column','dtypes','nunique','sum_null']\n",
        "    return df_check\n",
        "\n",
        "check(df)"
      ]
    },
    {
      "cell_type": "code",
      "execution_count": null,
      "metadata": {
        "colab": {
          "base_uri": "https://localhost:8080/",
          "height": 399
        },
        "id": "A6x_Y44S1N6h",
        "outputId": "04621450-3c20-4aa2-fce7-844c9a2ac0d1"
      },
      "outputs": [
        {
          "output_type": "execute_result",
          "data": {
            "text/plain": [
              "                 Age  Flight Distance   Seat comfort  \\\n",
              "count  129880.000000    129880.000000  129880.000000   \n",
              "mean       39.427957      1981.409055       2.838597   \n",
              "std        15.119360      1027.115606       1.392983   \n",
              "min         7.000000        50.000000       0.000000   \n",
              "25%        27.000000      1359.000000       2.000000   \n",
              "50%        40.000000      1925.000000       3.000000   \n",
              "75%        51.000000      2544.000000       4.000000   \n",
              "max        85.000000      6951.000000       5.000000   \n",
              "\n",
              "       Departure/Arrival time convenient  Food and drink  Gate location  \\\n",
              "count                      129880.000000   129880.000000  129880.000000   \n",
              "mean                            2.990645        2.851994       2.990422   \n",
              "std                             1.527224        1.443729       1.305970   \n",
              "min                             0.000000        0.000000       0.000000   \n",
              "25%                             2.000000        2.000000       2.000000   \n",
              "50%                             3.000000        3.000000       3.000000   \n",
              "75%                             4.000000        4.000000       4.000000   \n",
              "max                             5.000000        5.000000       5.000000   \n",
              "\n",
              "       Inflight wifi service  Inflight entertainment  Online support  \\\n",
              "count          129880.000000           129880.000000   129880.000000   \n",
              "mean                3.249130                3.383477        3.519703   \n",
              "std                 1.318818                1.346059        1.306511   \n",
              "min                 0.000000                0.000000        0.000000   \n",
              "25%                 2.000000                2.000000        3.000000   \n",
              "50%                 3.000000                4.000000        4.000000   \n",
              "75%                 4.000000                4.000000        5.000000   \n",
              "max                 5.000000                5.000000        5.000000   \n",
              "\n",
              "       Ease of Online booking  On-board service  Leg room service  \\\n",
              "count           129880.000000     129880.000000     129880.000000   \n",
              "mean                 3.472105          3.465075          3.485902   \n",
              "std                  1.305560          1.270836          1.292226   \n",
              "min                  0.000000          0.000000          0.000000   \n",
              "25%                  2.000000          3.000000          2.000000   \n",
              "50%                  4.000000          4.000000          4.000000   \n",
              "75%                  5.000000          4.000000          5.000000   \n",
              "max                  5.000000          5.000000          5.000000   \n",
              "\n",
              "       Baggage handling  Checkin service    Cleanliness  Online boarding  \\\n",
              "count     129880.000000    129880.000000  129880.000000    129880.000000   \n",
              "mean           3.695673         3.340807       3.705759         3.352587   \n",
              "std            1.156483         1.260582       1.151774         1.298715   \n",
              "min            1.000000         0.000000       0.000000         0.000000   \n",
              "25%            3.000000         3.000000       3.000000         2.000000   \n",
              "50%            4.000000         3.000000       4.000000         4.000000   \n",
              "75%            5.000000         4.000000       5.000000         4.000000   \n",
              "max            5.000000         5.000000       5.000000         5.000000   \n",
              "\n",
              "       Departure Delay in Minutes  Arrival Delay in Minutes  \n",
              "count               129880.000000             129487.000000  \n",
              "mean                    14.713713                 15.091129  \n",
              "std                     38.071126                 38.465650  \n",
              "min                      0.000000                  0.000000  \n",
              "25%                      0.000000                  0.000000  \n",
              "50%                      0.000000                  0.000000  \n",
              "75%                     12.000000                 13.000000  \n",
              "max                   1592.000000               1584.000000  "
            ],
            "text/html": [
              "\n",
              "  <div id=\"df-e0d0e640-c3ee-4ab5-aad2-d3e11685f93e\">\n",
              "    <div class=\"colab-df-container\">\n",
              "      <div>\n",
              "<style scoped>\n",
              "    .dataframe tbody tr th:only-of-type {\n",
              "        vertical-align: middle;\n",
              "    }\n",
              "\n",
              "    .dataframe tbody tr th {\n",
              "        vertical-align: top;\n",
              "    }\n",
              "\n",
              "    .dataframe thead th {\n",
              "        text-align: right;\n",
              "    }\n",
              "</style>\n",
              "<table border=\"1\" class=\"dataframe\">\n",
              "  <thead>\n",
              "    <tr style=\"text-align: right;\">\n",
              "      <th></th>\n",
              "      <th>Age</th>\n",
              "      <th>Flight Distance</th>\n",
              "      <th>Seat comfort</th>\n",
              "      <th>Departure/Arrival time convenient</th>\n",
              "      <th>Food and drink</th>\n",
              "      <th>Gate location</th>\n",
              "      <th>Inflight wifi service</th>\n",
              "      <th>Inflight entertainment</th>\n",
              "      <th>Online support</th>\n",
              "      <th>Ease of Online booking</th>\n",
              "      <th>On-board service</th>\n",
              "      <th>Leg room service</th>\n",
              "      <th>Baggage handling</th>\n",
              "      <th>Checkin service</th>\n",
              "      <th>Cleanliness</th>\n",
              "      <th>Online boarding</th>\n",
              "      <th>Departure Delay in Minutes</th>\n",
              "      <th>Arrival Delay in Minutes</th>\n",
              "    </tr>\n",
              "  </thead>\n",
              "  <tbody>\n",
              "    <tr>\n",
              "      <th>count</th>\n",
              "      <td>129880.000000</td>\n",
              "      <td>129880.000000</td>\n",
              "      <td>129880.000000</td>\n",
              "      <td>129880.000000</td>\n",
              "      <td>129880.000000</td>\n",
              "      <td>129880.000000</td>\n",
              "      <td>129880.000000</td>\n",
              "      <td>129880.000000</td>\n",
              "      <td>129880.000000</td>\n",
              "      <td>129880.000000</td>\n",
              "      <td>129880.000000</td>\n",
              "      <td>129880.000000</td>\n",
              "      <td>129880.000000</td>\n",
              "      <td>129880.000000</td>\n",
              "      <td>129880.000000</td>\n",
              "      <td>129880.000000</td>\n",
              "      <td>129880.000000</td>\n",
              "      <td>129487.000000</td>\n",
              "    </tr>\n",
              "    <tr>\n",
              "      <th>mean</th>\n",
              "      <td>39.427957</td>\n",
              "      <td>1981.409055</td>\n",
              "      <td>2.838597</td>\n",
              "      <td>2.990645</td>\n",
              "      <td>2.851994</td>\n",
              "      <td>2.990422</td>\n",
              "      <td>3.249130</td>\n",
              "      <td>3.383477</td>\n",
              "      <td>3.519703</td>\n",
              "      <td>3.472105</td>\n",
              "      <td>3.465075</td>\n",
              "      <td>3.485902</td>\n",
              "      <td>3.695673</td>\n",
              "      <td>3.340807</td>\n",
              "      <td>3.705759</td>\n",
              "      <td>3.352587</td>\n",
              "      <td>14.713713</td>\n",
              "      <td>15.091129</td>\n",
              "    </tr>\n",
              "    <tr>\n",
              "      <th>std</th>\n",
              "      <td>15.119360</td>\n",
              "      <td>1027.115606</td>\n",
              "      <td>1.392983</td>\n",
              "      <td>1.527224</td>\n",
              "      <td>1.443729</td>\n",
              "      <td>1.305970</td>\n",
              "      <td>1.318818</td>\n",
              "      <td>1.346059</td>\n",
              "      <td>1.306511</td>\n",
              "      <td>1.305560</td>\n",
              "      <td>1.270836</td>\n",
              "      <td>1.292226</td>\n",
              "      <td>1.156483</td>\n",
              "      <td>1.260582</td>\n",
              "      <td>1.151774</td>\n",
              "      <td>1.298715</td>\n",
              "      <td>38.071126</td>\n",
              "      <td>38.465650</td>\n",
              "    </tr>\n",
              "    <tr>\n",
              "      <th>min</th>\n",
              "      <td>7.000000</td>\n",
              "      <td>50.000000</td>\n",
              "      <td>0.000000</td>\n",
              "      <td>0.000000</td>\n",
              "      <td>0.000000</td>\n",
              "      <td>0.000000</td>\n",
              "      <td>0.000000</td>\n",
              "      <td>0.000000</td>\n",
              "      <td>0.000000</td>\n",
              "      <td>0.000000</td>\n",
              "      <td>0.000000</td>\n",
              "      <td>0.000000</td>\n",
              "      <td>1.000000</td>\n",
              "      <td>0.000000</td>\n",
              "      <td>0.000000</td>\n",
              "      <td>0.000000</td>\n",
              "      <td>0.000000</td>\n",
              "      <td>0.000000</td>\n",
              "    </tr>\n",
              "    <tr>\n",
              "      <th>25%</th>\n",
              "      <td>27.000000</td>\n",
              "      <td>1359.000000</td>\n",
              "      <td>2.000000</td>\n",
              "      <td>2.000000</td>\n",
              "      <td>2.000000</td>\n",
              "      <td>2.000000</td>\n",
              "      <td>2.000000</td>\n",
              "      <td>2.000000</td>\n",
              "      <td>3.000000</td>\n",
              "      <td>2.000000</td>\n",
              "      <td>3.000000</td>\n",
              "      <td>2.000000</td>\n",
              "      <td>3.000000</td>\n",
              "      <td>3.000000</td>\n",
              "      <td>3.000000</td>\n",
              "      <td>2.000000</td>\n",
              "      <td>0.000000</td>\n",
              "      <td>0.000000</td>\n",
              "    </tr>\n",
              "    <tr>\n",
              "      <th>50%</th>\n",
              "      <td>40.000000</td>\n",
              "      <td>1925.000000</td>\n",
              "      <td>3.000000</td>\n",
              "      <td>3.000000</td>\n",
              "      <td>3.000000</td>\n",
              "      <td>3.000000</td>\n",
              "      <td>3.000000</td>\n",
              "      <td>4.000000</td>\n",
              "      <td>4.000000</td>\n",
              "      <td>4.000000</td>\n",
              "      <td>4.000000</td>\n",
              "      <td>4.000000</td>\n",
              "      <td>4.000000</td>\n",
              "      <td>3.000000</td>\n",
              "      <td>4.000000</td>\n",
              "      <td>4.000000</td>\n",
              "      <td>0.000000</td>\n",
              "      <td>0.000000</td>\n",
              "    </tr>\n",
              "    <tr>\n",
              "      <th>75%</th>\n",
              "      <td>51.000000</td>\n",
              "      <td>2544.000000</td>\n",
              "      <td>4.000000</td>\n",
              "      <td>4.000000</td>\n",
              "      <td>4.000000</td>\n",
              "      <td>4.000000</td>\n",
              "      <td>4.000000</td>\n",
              "      <td>4.000000</td>\n",
              "      <td>5.000000</td>\n",
              "      <td>5.000000</td>\n",
              "      <td>4.000000</td>\n",
              "      <td>5.000000</td>\n",
              "      <td>5.000000</td>\n",
              "      <td>4.000000</td>\n",
              "      <td>5.000000</td>\n",
              "      <td>4.000000</td>\n",
              "      <td>12.000000</td>\n",
              "      <td>13.000000</td>\n",
              "    </tr>\n",
              "    <tr>\n",
              "      <th>max</th>\n",
              "      <td>85.000000</td>\n",
              "      <td>6951.000000</td>\n",
              "      <td>5.000000</td>\n",
              "      <td>5.000000</td>\n",
              "      <td>5.000000</td>\n",
              "      <td>5.000000</td>\n",
              "      <td>5.000000</td>\n",
              "      <td>5.000000</td>\n",
              "      <td>5.000000</td>\n",
              "      <td>5.000000</td>\n",
              "      <td>5.000000</td>\n",
              "      <td>5.000000</td>\n",
              "      <td>5.000000</td>\n",
              "      <td>5.000000</td>\n",
              "      <td>5.000000</td>\n",
              "      <td>5.000000</td>\n",
              "      <td>1592.000000</td>\n",
              "      <td>1584.000000</td>\n",
              "    </tr>\n",
              "  </tbody>\n",
              "</table>\n",
              "</div>\n",
              "      <button class=\"colab-df-convert\" onclick=\"convertToInteractive('df-e0d0e640-c3ee-4ab5-aad2-d3e11685f93e')\"\n",
              "              title=\"Convert this dataframe to an interactive table.\"\n",
              "              style=\"display:none;\">\n",
              "        \n",
              "  <svg xmlns=\"http://www.w3.org/2000/svg\" height=\"24px\"viewBox=\"0 0 24 24\"\n",
              "       width=\"24px\">\n",
              "    <path d=\"M0 0h24v24H0V0z\" fill=\"none\"/>\n",
              "    <path d=\"M18.56 5.44l.94 2.06.94-2.06 2.06-.94-2.06-.94-.94-2.06-.94 2.06-2.06.94zm-11 1L8.5 8.5l.94-2.06 2.06-.94-2.06-.94L8.5 2.5l-.94 2.06-2.06.94zm10 10l.94 2.06.94-2.06 2.06-.94-2.06-.94-.94-2.06-.94 2.06-2.06.94z\"/><path d=\"M17.41 7.96l-1.37-1.37c-.4-.4-.92-.59-1.43-.59-.52 0-1.04.2-1.43.59L10.3 9.45l-7.72 7.72c-.78.78-.78 2.05 0 2.83L4 21.41c.39.39.9.59 1.41.59.51 0 1.02-.2 1.41-.59l7.78-7.78 2.81-2.81c.8-.78.8-2.07 0-2.86zM5.41 20L4 18.59l7.72-7.72 1.47 1.35L5.41 20z\"/>\n",
              "  </svg>\n",
              "      </button>\n",
              "      \n",
              "  <style>\n",
              "    .colab-df-container {\n",
              "      display:flex;\n",
              "      flex-wrap:wrap;\n",
              "      gap: 12px;\n",
              "    }\n",
              "\n",
              "    .colab-df-convert {\n",
              "      background-color: #E8F0FE;\n",
              "      border: none;\n",
              "      border-radius: 50%;\n",
              "      cursor: pointer;\n",
              "      display: none;\n",
              "      fill: #1967D2;\n",
              "      height: 32px;\n",
              "      padding: 0 0 0 0;\n",
              "      width: 32px;\n",
              "    }\n",
              "\n",
              "    .colab-df-convert:hover {\n",
              "      background-color: #E2EBFA;\n",
              "      box-shadow: 0px 1px 2px rgba(60, 64, 67, 0.3), 0px 1px 3px 1px rgba(60, 64, 67, 0.15);\n",
              "      fill: #174EA6;\n",
              "    }\n",
              "\n",
              "    [theme=dark] .colab-df-convert {\n",
              "      background-color: #3B4455;\n",
              "      fill: #D2E3FC;\n",
              "    }\n",
              "\n",
              "    [theme=dark] .colab-df-convert:hover {\n",
              "      background-color: #434B5C;\n",
              "      box-shadow: 0px 1px 3px 1px rgba(0, 0, 0, 0.15);\n",
              "      filter: drop-shadow(0px 1px 2px rgba(0, 0, 0, 0.3));\n",
              "      fill: #FFFFFF;\n",
              "    }\n",
              "  </style>\n",
              "\n",
              "      <script>\n",
              "        const buttonEl =\n",
              "          document.querySelector('#df-e0d0e640-c3ee-4ab5-aad2-d3e11685f93e button.colab-df-convert');\n",
              "        buttonEl.style.display =\n",
              "          google.colab.kernel.accessAllowed ? 'block' : 'none';\n",
              "\n",
              "        async function convertToInteractive(key) {\n",
              "          const element = document.querySelector('#df-e0d0e640-c3ee-4ab5-aad2-d3e11685f93e');\n",
              "          const dataTable =\n",
              "            await google.colab.kernel.invokeFunction('convertToInteractive',\n",
              "                                                     [key], {});\n",
              "          if (!dataTable) return;\n",
              "\n",
              "          const docLinkHtml = 'Like what you see? Visit the ' +\n",
              "            '<a target=\"_blank\" href=https://colab.research.google.com/notebooks/data_table.ipynb>data table notebook</a>'\n",
              "            + ' to learn more about interactive tables.';\n",
              "          element.innerHTML = '';\n",
              "          dataTable['output_type'] = 'display_data';\n",
              "          await google.colab.output.renderOutput(dataTable, element);\n",
              "          const docLink = document.createElement('div');\n",
              "          docLink.innerHTML = docLinkHtml;\n",
              "          element.appendChild(docLink);\n",
              "        }\n",
              "      </script>\n",
              "    </div>\n",
              "  </div>\n",
              "  "
            ]
          },
          "metadata": {},
          "execution_count": 4
        }
      ],
      "source": [
        "df.describe()"
      ]
    },
    {
      "cell_type": "code",
      "execution_count": null,
      "metadata": {
        "colab": {
          "base_uri": "https://localhost:8080/",
          "height": 337
        },
        "id": "W6L6prp51cX9",
        "outputId": "2e2e31ba-be59-4dcb-e13e-b17a2aae6a7a"
      },
      "outputs": [
        {
          "output_type": "stream",
          "name": "stdout",
          "text": [
            "satisfied       71087\n",
            "dissatisfied    58793\n",
            "Name: satisfaction, dtype: int64\n"
          ]
        },
        {
          "output_type": "display_data",
          "data": {
            "text/plain": [
              "<Figure size 432x288 with 1 Axes>"
            ],
            "image/png": "[encoded data removed]"
          },
          "metadata": {}
        }
      ],
      "source": [
        "print(df['satisfaction'].value_counts()) #Check if the data is imbalanced \n",
        "sns.set_theme(style=\"white\")\n",
        "sns.countplot(x=df[\"satisfaction\"], palette = \"PuRd_r\"); #after the split do the oversampling and it is not that important because the imbalance is not that severe"
      ]
    },
    {
      "cell_type": "markdown",
      "metadata": {
        "id": "8RCWr_3mxuZ3"
      },
      "source": [
        "## Data Preparation"
      ]
    },
    {
      "cell_type": "markdown",
      "metadata": {
        "id": "sGw3iUjrxyNw"
      },
      "source": [
        "####Data Cleaning"
      ]
    },
    {
      "cell_type": "code",
      "execution_count": null,
      "metadata": {
        "colab": {
          "base_uri": "https://localhost:8080/"
        },
        "id": "h3QVrslgz3xw",
        "outputId": "5961fe5b-2420-4a9b-f3c3-3df8aae6c53a"
      },
      "outputs": [
        {
          "output_type": "stream",
          "name": "stdout",
          "text": [
            "True\n"
          ]
        },
        {
          "output_type": "execute_result",
          "data": {
            "text/plain": [
              "satisfaction                           0\n",
              "Gender                                 0\n",
              "Customer Type                          0\n",
              "Age                                    0\n",
              "Type of Travel                         0\n",
              "Class                                  0\n",
              "Flight Distance                        0\n",
              "Seat comfort                           0\n",
              "Departure/Arrival time convenient      0\n",
              "Food and drink                         0\n",
              "Gate location                          0\n",
              "Inflight wifi service                  0\n",
              "Inflight entertainment                 0\n",
              "Online support                         0\n",
              "Ease of Online booking                 0\n",
              "On-board service                       0\n",
              "Leg room service                       0\n",
              "Baggage handling                       0\n",
              "Checkin service                        0\n",
              "Cleanliness                            0\n",
              "Online boarding                        0\n",
              "Departure Delay in Minutes             0\n",
              "Arrival Delay in Minutes             393\n",
              "dtype: int64"
            ]
          },
          "metadata": {},
          "execution_count": 6
        }
      ],
      "source": [
        "print(df.isnull().values.any())   #Check if there are null values\n",
        "df.isnull().sum() "
      ]
    },
    {
      "cell_type": "code",
      "execution_count": null,
      "metadata": {
        "id": "KRS80AKM04DD"
      },
      "outputs": [],
      "source": [
        "df = df.dropna()   #remove the null values"
      ]
    },
    {
      "cell_type": "code",
      "source": [
        "print(df['satisfaction'].value_counts())"
      ],
      "metadata": {
        "colab": {
          "base_uri": "https://localhost:8080/"
        },
        "id": "yJHiqWuB_JBX",
        "outputId": "4b040f87-8d70-4467-d6ef-d7c7beb841c9"
      },
      "execution_count": null,
      "outputs": [
        {
          "output_type": "stream",
          "name": "stdout",
          "text": [
            "satisfied       70882\n",
            "dissatisfied    58605\n",
            "Name: satisfaction, dtype: int64\n"
          ]
        }
      ]
    },
    {
      "cell_type": "code",
      "source": [
        "df.shape"
      ],
      "metadata": {
        "colab": {
          "base_uri": "https://localhost:8080/"
        },
        "id": "W-If6clo_eif",
        "outputId": "04d74a74-793f-4d70-e3f7-a670e83a8028"
      },
      "execution_count": null,
      "outputs": [
        {
          "output_type": "execute_result",
          "data": {
            "text/plain": [
              "(129487, 23)"
            ]
          },
          "metadata": {},
          "execution_count": 10
        }
      ]
    },
    {
      "cell_type": "code",
      "execution_count": null,
      "metadata": {
        "colab": {
          "base_uri": "https://localhost:8080/"
        },
        "id": "ZlSSH6wr1jqR",
        "outputId": "02698584-7dd9-4f98-fc30-49e609db7300"
      },
      "outputs": [
        {
          "output_type": "execute_result",
          "data": {
            "text/plain": [
              "Index(['satisfaction', 'Gender', 'Customer Type', 'Age', 'Type of Travel',\n",
              "       'Class', 'Flight Distance', 'Seat comfort',\n",
              "       'Departure/Arrival time convenient', 'Food and drink', 'Gate location',\n",
              "       'Inflight wifi service', 'Inflight entertainment', 'Online support',\n",
              "       'Ease of Online booking', 'On-board service', 'Leg room service',\n",
              "       'Baggage handling', 'Checkin service', 'Cleanliness', 'Online boarding',\n",
              "       'Departure Delay in Minutes', 'Arrival Delay in Minutes'],\n",
              "      dtype='object')"
            ]
          },
          "metadata": {},
          "execution_count": 9
        }
      ],
      "source": [
        "df.columns"
      ]
    },
    {
      "cell_type": "code",
      "execution_count": null,
      "metadata": {
        "colab": {
          "base_uri": "https://localhost:8080/"
        },
        "id": "qDpwt3wB2Asw",
        "outputId": "261096cc-b34a-4cbc-91bd-30e66020167a"
      },
      "outputs": [
        {
          "output_type": "execute_result",
          "data": {
            "text/plain": [
              "0"
            ]
          },
          "metadata": {},
          "execution_count": 10
        }
      ],
      "source": [
        "df.duplicated().sum() #to check for duplicates"
      ]
    },
    {
      "cell_type": "code",
      "execution_count": null,
      "metadata": {
        "colab": {
          "base_uri": "https://localhost:8080/",
          "height": 755
        },
        "id": "qPA6N275nCSH",
        "outputId": "460a40a2-5a38-433f-fa29-39bbf7321ace"
      },
      "outputs": [
        {
          "output_type": "display_data",
          "data": {
            "text/plain": [
              "<Figure size 1440x720 with 2 Axes>"
            ],
            "image/png": "[encoded data removed]"
          },
          "metadata": {}
        }
      ],
      "source": [
        " #To check for correlation among the variables \n",
        "corrmat = df.corr()   #There is a correlation between arrival delay in minutes and departure delay in minutes \n",
        "                      # One of them should be dropped\n",
        "f, ax = plt.subplots(figsize =(20, 10))\n",
        "sns.heatmap(corrmat, ax = ax, mask=np.triu(np.ones_like(corrmat, dtype=np.bool)), annot=True, annot_kws={\"size\": 12}, linewidths = 0.1, cmap='RdPu', fmt = '0.2' );\n",
        "\n"
      ]
    },
    {
      "cell_type": "code",
      "execution_count": null,
      "metadata": {
        "id": "wh9TQG8wnbaN"
      },
      "outputs": [],
      "source": [
        "df = df.drop(\"Departure Delay in Minutes\",axis=1) #dropped the coloumn (axis=1 to drop the column due to correlation)"
      ]
    },
    {
      "cell_type": "code",
      "execution_count": null,
      "metadata": {
        "id": "W-NzfjoXRTyE"
      },
      "outputs": [],
      "source": [
        "df.to_csv('data-clean.csv', index=False) # exporting the clean data for visualizations"
      ]
    },
    {
      "cell_type": "code",
      "execution_count": null,
      "metadata": {
        "colab": {
          "base_uri": "https://localhost:8080/"
        },
        "id": "cjot21u96q0d",
        "outputId": "93115874-633f-494d-cab9-07ace216b430"
      },
      "outputs": [
        {
          "output_type": "stream",
          "name": "stdout",
          "text": [
            "Total: 129487\n",
            "  Satisfied: 70882 (54.74% of total)\n",
            "  Dissatisfied: 58605 (45.26% of total)\n"
          ]
        }
      ],
      "source": [
        "# checking if dataset is imbalanced (after cleaning)\n",
        "satisfied = Counter(df['satisfaction'])['satisfied']\n",
        "dissatisfied = Counter(df['satisfaction'])['dissatisfied']\n",
        "total = df.shape[0]\n",
        "print('Total: {}\\n  Satisfied: {} ({:.2f}% of total)\\n  Dissatisfied: {} ({:.2f}% of total)'.format(total, satisfied, 100*satisfied/total, dissatisfied, 100*dissatisfied/total))"
      ]
    },
    {
      "cell_type": "markdown",
      "metadata": {
        "id": "yVAQRPQuzAaQ"
      },
      "source": [
        "#### Data Preprocessing"
      ]
    },
    {
      "cell_type": "markdown",
      "metadata": {
        "id": "0BzrZ-412y3J"
      },
      "source": [
        "> One hot encoding"
      ]
    },
    {
      "cell_type": "code",
      "execution_count": null,
      "metadata": {
        "id": "lb-7NWDIJYRz"
      },
      "outputs": [],
      "source": [
        "def dummy(df, cols_list):   # to hot encode the variables is to change them into dummy variables only 0 and 1\n",
        "    for col in cols_list:   # the baseline and the original column was dropped from the dataframe (the one with more than two categories)\n",
        "        x = pd.get_dummies(df[col], drop_first=True)\n",
        "        df.drop( [col], axis=1, inplace= True)\n",
        "        df = pd.concat( [df, x], axis = 1)\n",
        "    return df\n",
        "\n",
        "to_be_dummy =  ['satisfaction', 'Gender','Customer Type', 'Type of Travel', 'Class']\n",
        "df = dummy(df, to_be_dummy)"
      ]
    },
    {
      "cell_type": "code",
      "execution_count": null,
      "metadata": {
        "colab": {
          "base_uri": "https://localhost:8080/"
        },
        "id": "bipo8D6YJfFm",
        "outputId": "dd0daaed-c2a8-4948-c15b-1c395e4e56a7"
      },
      "outputs": [
        {
          "output_type": "execute_result",
          "data": {
            "text/plain": [
              "Index(['Age', 'Flight Distance', 'Seat comfort',\n",
              "       'Departure/Arrival time convenient', 'Food and drink', 'Gate location',\n",
              "       'Inflight wifi service', 'Inflight entertainment', 'Online support',\n",
              "       'Ease of Online booking', 'On-board service', 'Leg room service',\n",
              "       'Baggage handling', 'Checkin service', 'Cleanliness', 'Online boarding',\n",
              "       'Arrival Delay in Minutes', 'satisfied', 'Male', 'disloyal Customer',\n",
              "       'Personal Travel', 'Eco', 'Eco Plus'],\n",
              "      dtype='object')"
            ]
          },
          "metadata": {},
          "execution_count": 15
        }
      ],
      "source": [
        "df.columns"
      ]
    },
    {
      "cell_type": "markdown",
      "metadata": {
        "id": "7Cx6jq3c5m_q"
      },
      "source": [
        "> Data Splitting"
      ]
    },
    {
      "cell_type": "code",
      "execution_count": null,
      "metadata": {
        "id": "hK7Omoi7Bf4n"
      },
      "outputs": [],
      "source": [
        "X = df.drop('satisfied', axis=1) #splitting the data into x and y\n",
        "y = df['satisfied'].values"
      ]
    },
    {
      "cell_type": "code",
      "execution_count": null,
      "metadata": {
        "colab": {
          "base_uri": "https://localhost:8080/"
        },
        "id": "3xsZc-TenRO2",
        "outputId": "c4fb6a74-5982-4136-ab12-b83c8fd8cea5"
      },
      "outputs": [
        {
          "output_type": "stream",
          "name": "stdout",
          "text": [
            "(103589, 22)\n",
            "(25898, 22)\n"
          ]
        }
      ],
      "source": [
        "X_train, X_test, y_train, y_test = train_test_split(X, y, test_size=0.2, shuffle=True, stratify = y, random_state=0) #splitting the data\n",
        "print(X_train.shape)\n",
        "print(X_test.shape)"
      ]
    },
    {
      "cell_type": "code",
      "execution_count": null,
      "metadata": {
        "colab": {
          "base_uri": "https://localhost:8080/",
          "height": 773
        },
        "id": "dQ0G3CJTWtNO",
        "outputId": "e2c8a021-0999-4378-92a0-d24da5cb501c"
      },
      "outputs": [
        {
          "output_type": "display_data",
          "data": {
            "text/plain": [
              "<Figure size 432x288 with 1 Axes>"
            ],
            "image/png": "[encoded data removed]"
          },
          "metadata": {}
        },
        {
          "output_type": "stream",
          "name": "stdout",
          "text": [
            "\n",
            "\n",
            "\n",
            "\n"
          ]
        },
        {
          "output_type": "display_data",
          "data": {
            "text/plain": [
              "<Figure size 432x288 with 1 Axes>"
            ],
            "image/png": "[encoded data removed]"
          },
          "metadata": {}
        },
        {
          "output_type": "stream",
          "name": "stdout",
          "text": [
            "\n",
            "\n",
            "\n",
            "Total: 113410\n",
            "  Satisfied: 56705 (50.00% of total)\n",
            "  Dissatisfied: 56705 (50.00% of total)\n"
          ]
        }
      ],
      "source": [
        "ax = plt.axes()\n",
        "pd.DataFrame(y_train).value_counts().plot(kind='bar', cmap='RdPu_r')\n",
        "plt.title('Before Balancing', fontsize=18, weight=\"bold\")\n",
        "plt.xlabel(' ')\n",
        "# plt.ylabel('amount per label')\n",
        "ax.set_xticklabels(['Satisfied', 'Dissatisfied'], rotation=0, size=12, weight=\"bold\")\n",
        "plt.show()\n",
        "print('\\n\\n\\n')\n",
        "\n",
        "ros = RandomOverSampler(random_state=96)\n",
        "X_train, y_train = ros.fit_resample(X_train, y_train)\n",
        "\n",
        "ax = plt.axes()\n",
        "pd.DataFrame(y_train).value_counts().plot(kind='bar', cmap=\"RdPu_r\")\n",
        "plt.title('After Balancing', fontsize=18, weight=\"bold\")\n",
        "plt.xlabel(' ')\n",
        "# plt.ylabel('amount per label')\n",
        "ax.set_xticklabels(['Satisfied', 'Dissatisfied'], rotation=0, size=12, weight=\"bold\")\n",
        "plt.show()\n",
        "\n",
        "\n",
        "satisfied = pd.DataFrame(y_train).value_counts().values[0]\n",
        "not_satisfied = pd.DataFrame(y_train).value_counts().values[1]\n",
        "total = satisfied + not_satisfied \n",
        "print('\\n\\n\\nTotal: {}\\n  Satisfied: {} ({:.2f}% of total)\\n  Dissatisfied: {} ({:.2f}% of total)'\\\n",
        "      .format(total, satisfied, 100*satisfied/total, not_satisfied, 100*not_satisfied/total))"
      ]
    },
    {
      "cell_type": "code",
      "execution_count": null,
      "metadata": {
        "colab": {
          "base_uri": "https://localhost:8080/"
        },
        "id": "f9VjMt0tI_cP",
        "outputId": "4ae1f55d-9864-4f10-eba1-f39566c56329"
      },
      "outputs": [
        {
          "output_type": "execute_result",
          "data": {
            "text/plain": [
              "RFE(estimator=GradientBoostingClassifier(learning_rate=0.2, n_estimators=3,\n",
              "                                         random_state=0, subsample=0.7),\n",
              "    n_features_to_select=1)"
            ]
          },
          "metadata": {},
          "execution_count": 19
        }
      ],
      "source": [
        "rfe = RFE(GradientBoostingClassifier(random_state = 0, subsample=0.7, learning_rate=0.2,n_estimators=3), n_features_to_select=1)\n",
        "rfe.fit(X_train, y_train) "
      ]
    },
    {
      "cell_type": "code",
      "execution_count": null,
      "metadata": {
        "colab": {
          "base_uri": "https://localhost:8080/"
        },
        "id": "epRrdUKWEaih",
        "outputId": "215dfa9e-d417-436c-e9f6-a2ad1a526052"
      },
      "outputs": [
        {
          "output_type": "stream",
          "name": "stdout",
          "text": [
            "Sorted List of features according to their importance:\n",
            "\n",
            "1   Inflight entertainment \n",
            "\n",
            "2   Seat comfort \n",
            "\n",
            "3   Ease of Online booking \n",
            "\n",
            "4   Online support \n",
            "\n",
            "5   Checkin service \n",
            "\n",
            "6   disloyal Customer \n",
            "\n",
            "7   Eco \n",
            "\n",
            "8   Personal Travel \n",
            "\n",
            "9   Male \n",
            "\n",
            "10   Arrival Delay in Minutes \n",
            "\n",
            "11   Online boarding \n",
            "\n",
            "12   Cleanliness \n",
            "\n",
            "13   Inflight wifi service \n",
            "\n",
            "14   Gate location \n",
            "\n",
            "15   Food and drink \n",
            "\n",
            "16   Departure/Arrival time convenient \n",
            "\n",
            "17   Eco Plus \n",
            "\n",
            "18   On-board service \n",
            "\n",
            "19   Baggage handling \n",
            "\n",
            "20   Leg room service \n",
            "\n",
            "21   Flight Distance \n",
            "\n",
            "22   Age \n",
            "\n"
          ]
        }
      ],
      "source": [
        "features = X_train.columns.to_list()\n",
        "sorted(zip(rfe.ranking_ , features))\n",
        "\n",
        "print(\"Sorted List of features according to their importance:\\n\")\n",
        "for rank, feature in sorted(zip(rfe.ranking_ , features)):\n",
        "  print(rank, \" \", feature, \"\\n\")"
      ]
    },
    {
      "cell_type": "code",
      "source": [
        "from sklearn.feature_selection import SelectKBest, chi2 #Feature importance using the chi square\n",
        "X = df.loc[:,df.columns!='satisfied'].round(3) \n",
        "y = df[['satisfied']] \n",
        "selector = SelectKBest(chi2, k=10) \n",
        "selector.fit(X, y) \n",
        "X_new = selector.transform(X) \n",
        "print(X.columns[selector.get_support(indices=True)])"
      ],
      "metadata": {
        "colab": {
          "base_uri": "https://localhost:8080/"
        },
        "id": "EpCDoKNYVfjq",
        "outputId": "36cf2a78-847a-4bb0-cdcc-abd44650a249"
      },
      "execution_count": null,
      "outputs": [
        {
          "output_type": "stream",
          "name": "stdout",
          "text": [
            "Index(['Age', 'Flight Distance', 'Inflight entertainment', 'Online support',\n",
            "       'Ease of Online booking', 'On-board service', 'Leg room service',\n",
            "       'Online boarding', 'Arrival Delay in Minutes', 'disloyal Customer'],\n",
            "      dtype='object')\n"
          ]
        }
      ]
    },
    {
      "cell_type": "code",
      "execution_count": null,
      "metadata": {
        "id": "ka81R-K3L5Vg"
      },
      "outputs": [],
      "source": [
        "scaler = preprocessing.StandardScaler()    #Feature Scaling\n",
        "X_train[X_train.columns] = scaler.fit_transform(X_train[X_train.columns])\n",
        "X_test[X_test.columns] = scaler.transform(X_test[X_test.columns])"
      ]
    },
    {
      "cell_type": "markdown",
      "metadata": {
        "id": "Imbu9Y3zME1I"
      },
      "source": [
        "### Models and Evaluation"
      ]
    },
    {
      "cell_type": "markdown",
      "metadata": {
        "id": "sXxT9qucMc3F"
      },
      "source": [
        "####AdaBoost Model"
      ]
    },
    {
      "cell_type": "code",
      "execution_count": null,
      "metadata": {
        "id": "SbNGmlLsL0jc"
      },
      "outputs": [],
      "source": [
        "ada = AdaBoostClassifier(n_estimators=100, random_state=0)\n",
        "ada.fit(X_train, y_train)\n",
        "y_pred_ada = ada.predict(X_test)"
      ]
    },
    {
      "cell_type": "code",
      "execution_count": null,
      "metadata": {
        "colab": {
          "base_uri": "https://localhost:8080/"
        },
        "id": "BkVKa9OuMOaA",
        "outputId": "20055cc3-fe8a-415f-e5b4-690edc121300"
      },
      "outputs": [
        {
          "output_type": "stream",
          "name": "stdout",
          "text": [
            "              precision    recall  f1-score   support\n",
            "\n",
            "           0       0.88      0.91      0.89     11721\n",
            "           1       0.92      0.89      0.91     14177\n",
            "\n",
            "    accuracy                           0.90     25898\n",
            "   macro avg       0.90      0.90      0.90     25898\n",
            "weighted avg       0.90      0.90      0.90     25898\n",
            "\n",
            "f1 Score = 0.89969\n"
          ]
        }
      ],
      "source": [
        "print(classification_report(y_test,y_pred_ada,labels=ada.classes_))\n",
        "print(f\"f1 Score = {round(f1_score(y_test, y_pred_ada, average='weighted'), 5)}\")"
      ]
    },
    {
      "cell_type": "code",
      "execution_count": null,
      "metadata": {
        "colab": {
          "base_uri": "https://localhost:8080/",
          "height": 285
        },
        "id": "wZo9ghZqMSu8",
        "outputId": "843c3b3c-8439-4231-bffa-21864742dd49"
      },
      "outputs": [
        {
          "output_type": "display_data",
          "data": {
            "text/plain": [
              "<Figure size 432x288 with 2 Axes>"
            ],
            "image/png": "[encoded data removed]"
          },
          "metadata": {}
        }
      ],
      "source": [
        "cm = confusion_matrix(y_test, y_pred_ada)\n",
        "fig, ax = plot_confusion_matrix(conf_mat=cm, colorbar= True, cmap=\"RdPu\")\n",
        "plt.show()"
      ]
    },
    {
      "cell_type": "markdown",
      "metadata": {
        "id": "7m5XgzEJMsFO"
      },
      "source": [
        "####Logistic Regression Classifier"
      ]
    },
    {
      "cell_type": "code",
      "execution_count": null,
      "metadata": {
        "id": "sRJlvzAVMVvX"
      },
      "outputs": [],
      "source": [
        "from sklearn.linear_model import LogisticRegression\n",
        "lrg = LogisticRegression(random_state=0)\n",
        "lrg.fit(X_train, y_train)\n",
        "y_pred_lrg = lrg.predict(X_test)"
      ]
    },
    {
      "cell_type": "code",
      "execution_count": null,
      "metadata": {
        "colab": {
          "base_uri": "https://localhost:8080/"
        },
        "id": "psBIyHKubIdB",
        "outputId": "5516e19f-c093-4d83-e35a-b43fd922035f"
      },
      "outputs": [
        {
          "output_type": "stream",
          "name": "stdout",
          "text": [
            "              precision    recall  f1-score   support\n",
            "\n",
            "           0       0.81      0.84      0.82     11721\n",
            "           1       0.86      0.83      0.85     14177\n",
            "\n",
            "    accuracy                           0.84     25898\n",
            "   macro avg       0.83      0.84      0.84     25898\n",
            "weighted avg       0.84      0.84      0.84     25898\n",
            "\n",
            "f1 Score = 0.83626\n"
          ]
        }
      ],
      "source": [
        "print(classification_report(y_test,y_pred_lrg,labels=lrg.classes_))\n",
        "print(f\"f1 Score = {round(f1_score(y_test, y_pred_lrg, average='weighted'), 5)}\")"
      ]
    },
    {
      "cell_type": "code",
      "execution_count": null,
      "metadata": {
        "colab": {
          "base_uri": "https://localhost:8080/",
          "height": 285
        },
        "id": "iFAZPqzCbSIG",
        "outputId": "350ae028-6f13-420e-970f-a69ce54dfed9"
      },
      "outputs": [
        {
          "output_type": "display_data",
          "data": {
            "text/plain": [
              "<Figure size 432x288 with 2 Axes>"
            ],
            "image/png": "[encoded data removed]"
          },
          "metadata": {}
        }
      ],
      "source": [
        "cm = confusion_matrix(y_test, y_pred_lrg)\n",
        "fig, ax = plot_confusion_matrix(conf_mat=cm, colorbar= True, cmap=\"RdPu\")\n",
        "plt.show()"
      ]
    },
    {
      "cell_type": "markdown",
      "metadata": {
        "id": "sbgT0HA3dcNw"
      },
      "source": [
        "#### Support Vector Machine"
      ]
    },
    {
      "cell_type": "code",
      "execution_count": null,
      "metadata": {
        "id": "81RppKHwbcTP"
      },
      "outputs": [],
      "source": [
        "from sklearn.svm import SVC\n",
        "svc = SVC(random_state=0, probability=True)\n",
        "svc.fit(X_train, y_train)\n",
        "y_pred_svc = svc.predict(X_test)"
      ]
    },
    {
      "cell_type": "code",
      "execution_count": null,
      "metadata": {
        "colab": {
          "base_uri": "https://localhost:8080/"
        },
        "id": "CqKFsscvds9_",
        "outputId": "e1366d7b-5d20-4525-c19b-c27ca02d679b"
      },
      "outputs": [
        {
          "output_type": "stream",
          "name": "stdout",
          "text": [
            "              precision    recall  f1-score   support\n",
            "\n",
            "           0       0.93      0.95      0.94     11721\n",
            "           1       0.96      0.94      0.95     14177\n",
            "\n",
            "    accuracy                           0.95     25898\n",
            "   macro avg       0.95      0.95      0.95     25898\n",
            "weighted avg       0.95      0.95      0.95     25898\n",
            "\n",
            "f1 Score = 0.94857\n"
          ]
        }
      ],
      "source": [
        "print(classification_report(y_test,y_pred_svc,labels=svc.classes_))\n",
        "print(f\"f1 Score = {round(f1_score(y_test, y_pred_svc, average='weighted'), 5)}\")"
      ]
    },
    {
      "cell_type": "code",
      "execution_count": null,
      "metadata": {
        "colab": {
          "base_uri": "https://localhost:8080/",
          "height": 285
        },
        "id": "nd5l6RHUdwZX",
        "outputId": "c9b7e017-b241-410a-82a8-35b3d14dca1d"
      },
      "outputs": [
        {
          "output_type": "display_data",
          "data": {
            "text/plain": [
              "<Figure size 432x288 with 2 Axes>"
            ],
            "image/png": "[encoded data removed]"
          },
          "metadata": {}
        }
      ],
      "source": [
        "cm = confusion_matrix(y_test, y_pred_svc)\n",
        "fig, ax = plot_confusion_matrix(conf_mat=cm, colorbar= True, cmap=\"RdPu\")\n",
        "plt.show()"
      ]
    },
    {
      "cell_type": "markdown",
      "metadata": {
        "id": "BxJuYKfMd5MG"
      },
      "source": [
        "####Random Forest Classifier"
      ]
    },
    {
      "cell_type": "code",
      "execution_count": null,
      "metadata": {
        "colab": {
          "base_uri": "https://localhost:8080/"
        },
        "id": "7Z4Lvv2ix-Zd",
        "outputId": "ea11e97a-d7f6-4e8b-df53-09039210456a"
      },
      "outputs": [
        {
          "output_type": "stream",
          "name": "stdout",
          "text": [
            "Fitting 5 folds for each of 27 candidates, totalling 135 fits\n",
            "GridSearchView Best Params: {'bootstrap': True, 'max_depth': 60, 'min_samples_split': 8, 'n_estimators': 1000}\n",
            "\n",
            "\n",
            "\n"
          ]
        }
      ],
      "source": [
        "from sklearn.model_selection import GridSearchCV\n",
        "from sklearn.ensemble import RandomForestClassifier\n",
        "\n",
        "rfc = RandomForestClassifier(random_state=0)\n",
        "\n",
        "param_grid = {'bootstrap': [True],\n",
        "              'max_depth': [60, 80, 100],\n",
        "              'min_samples_split': [8, 10, 12],\n",
        "              'n_estimators': [100, 500, 1000]}\n",
        "\n",
        "gcv_rfc = GridSearchCV(rfc, param_grid, cv=5, verbose = 1, n_jobs = -1).fit(X_train, y_train);\n",
        "print(f'GridSearchView Best Params: {gcv_rfc.best_params_}\\n\\n\\n')\n",
        "\n",
        "## Optimized Predictions\n",
        "y_pred_rfc = gcv_rfc.predict(X_test)"
      ]
    },
    {
      "cell_type": "code",
      "execution_count": null,
      "metadata": {
        "colab": {
          "base_uri": "https://localhost:8080/"
        },
        "id": "dI8p0_uUd52T",
        "outputId": "abd6a3c7-66a7-430b-9111-c086d975ee4a"
      },
      "outputs": [
        {
          "output_type": "stream",
          "name": "stdout",
          "text": [
            "              precision    recall  f1-score   support\n",
            "\n",
            "           0       0.94      0.97      0.95     11721\n",
            "           1       0.97      0.95      0.96     14177\n",
            "\n",
            "    accuracy                           0.96     25898\n",
            "   macro avg       0.96      0.96      0.96     25898\n",
            "weighted avg       0.96      0.96      0.96     25898\n",
            "\n",
            "f1 Score = 0.95787\n"
          ]
        }
      ],
      "source": [
        "print(classification_report(y_test,y_pred_rfc,labels=gcv_rfc.classes_))\n",
        "print(f\"f1 Score = {round(f1_score(y_test, y_pred_rfc, average='weighted'), 5)}\")"
      ]
    },
    {
      "cell_type": "code",
      "execution_count": null,
      "metadata": {
        "colab": {
          "base_uri": "https://localhost:8080/",
          "height": 285
        },
        "id": "6_FE0ugcd6Ca",
        "outputId": "edd62861-cb42-4d3e-b676-a26fa7a37b05"
      },
      "outputs": [
        {
          "output_type": "display_data",
          "data": {
            "text/plain": [
              "<Figure size 432x288 with 2 Axes>"
            ],
            "image/png": "[encoded data removed]"
          },
          "metadata": {}
        }
      ],
      "source": [
        "cm = confusion_matrix(y_test, y_pred_rfc)\n",
        "fig, ax = plot_confusion_matrix(conf_mat=cm, colorbar= True,  cmap=\"RdPu\")\n",
        "plt.show()"
      ]
    },
    {
      "cell_type": "markdown",
      "metadata": {
        "id": "IIUkgDOzeq9u"
      },
      "source": [
        "####XGB Classifier"
      ]
    },
    {
      "cell_type": "code",
      "execution_count": null,
      "metadata": {
        "id": "n6y31hjYewBP"
      },
      "outputs": [],
      "source": [
        "from xgboost import XGBClassifier\n",
        "xgbc = XGBClassifier(random_state=0)\n",
        "xgbc.fit(X_train, y_train)\n",
        "y_pred_xgbc= xgbc.predict(X_test)"
      ]
    },
    {
      "cell_type": "code",
      "execution_count": null,
      "metadata": {
        "colab": {
          "base_uri": "https://localhost:8080/"
        },
        "id": "mnusYImfex-m",
        "outputId": "84610a13-730e-406a-fc95-8a5fe340bf2d"
      },
      "outputs": [
        {
          "output_type": "stream",
          "name": "stdout",
          "text": [
            "              precision    recall  f1-score   support\n",
            "\n",
            "           0       0.90      0.93      0.91     11721\n",
            "           1       0.94      0.91      0.93     14177\n",
            "\n",
            "    accuracy                           0.92     25898\n",
            "   macro avg       0.92      0.92      0.92     25898\n",
            "weighted avg       0.92      0.92      0.92     25898\n",
            "\n",
            "f1 Score = 0.91966\n"
          ]
        }
      ],
      "source": [
        "print(classification_report(y_test,y_pred_xgbc,labels=xgbc.classes_))\n",
        "print(f\"f1 Score = {round(f1_score(y_test, y_pred_xgbc, average='weighted'), 5)}\")"
      ]
    },
    {
      "cell_type": "code",
      "execution_count": null,
      "metadata": {
        "colab": {
          "base_uri": "https://localhost:8080/",
          "height": 285
        },
        "id": "wYNJKQ7SeyB4",
        "outputId": "5665be2f-e2d5-4a96-ea81-1cb7e774e9ca"
      },
      "outputs": [
        {
          "output_type": "display_data",
          "data": {
            "text/plain": [
              "<Figure size 432x288 with 2 Axes>"
            ],
            "image/png": "[encoded data removed]"
          },
          "metadata": {}
        }
      ],
      "source": [
        "cm = confusion_matrix(y_test, y_pred_xgbc)\n",
        "fig, ax = plot_confusion_matrix(conf_mat=cm, colorbar = True, cmap=\"RdPu\")\n",
        "plt.show()"
      ]
    },
    {
      "cell_type": "markdown",
      "metadata": {
        "id": "g-5_wv7g7kuA"
      },
      "source": [
        "> DOC Curve"
      ]
    },
    {
      "cell_type": "code",
      "execution_count": null,
      "metadata": {
        "id": "Mb6rRNzX6YNh",
        "colab": {
          "base_uri": "https://localhost:8080/",
          "height": 414
        },
        "outputId": "4359f120-6d05-4dee-d468-8e984d4171f2"
      },
      "outputs": [
        {
          "output_type": "display_data",
          "data": {
            "text/plain": [
              "<Figure size 576x432 with 1 Axes>"
            ],
            "image/png": "[encoded data removed]"
          },
          "metadata": {}
        }
      ],
      "source": [
        "# Instantiate the classfiers and make a list\n",
        "classifiers = [ada, lrg, gcv_rfc, xgbc, svc]\n",
        "colours = ['#4e006b','#f76ca3' , '#0ec8bc', '#fbb8bc', '#b0037f']\n",
        "\n",
        "# Define a result table as a DataFrame\n",
        "result = pd.DataFrame(columns=['classifiers', 'fpr','tpr','auc']) #will produce four columns\n",
        "\n",
        "# Train the models and record the results\n",
        "for cls in classifiers:\n",
        "    yproba = cls.predict_proba(X_test)[::,1]\n",
        "    fpr, tpr, _ = roc_curve(y_test,  yproba)\n",
        "    auc = roc_auc_score(y_test, yproba)\n",
        "    result = result.append({'classifiers':cls.__class__.__name__,\n",
        "                                        'fpr':fpr, \n",
        "                                        'tpr':tpr, \n",
        "                                        'auc':auc}, ignore_index=True)\n",
        "    \"\"\"result = result.append({'classifiers':cls.__class__.__name__,\n",
        "                                        'fpr':fpr, \n",
        "                                        'tpr':tpr, \n",
        "                                        'auc':auc}, ignore_index=True)\n",
        "\"\"\"\n",
        "\n",
        "# Set name of the classifiers as index labels\n",
        "result.set_index('classifiers', inplace=True) #made the classifiers column an index\n",
        "\n",
        "fig = plt.figure(figsize=(8,6))\n",
        "for i, colour in zip(result.index, colours):\n",
        "    plt.plot(result.loc[i]['fpr'], \n",
        "             result.loc[i]['tpr'],\n",
        "             color=colour, \n",
        "             label=\"{}, AUC={:.3f}\".format(i, result.loc[i]['auc']))\n",
        "    \n",
        "\n",
        "#plt.plot([0,1], [0,1], color='#089fc8', linestyle='--')\n",
        "plt.plot([0,1], [0,1], color='#82a3a5', linestyle='--')\n",
        "\n",
        "plt.xticks(np.arange(0.0, 1.1, step=0.1))\n",
        "plt.xlabel(\"False Positive Rate\", fontsize=15)\n",
        "\n",
        "plt.yticks(np.arange(0.0, 1.1, step=0.1))\n",
        "plt.ylabel(\"True Positive Rate\", fontsize=15)\n",
        "\n",
        "plt.title('ROC Curve Analysis', fontweight='bold', fontsize=15)\n",
        "plt.legend(prop={'size':13}, loc='lower right')\n",
        "\n",
        "plt.show()"
      ]
    },
    {
      "cell_type": "code",
      "execution_count": null,
      "metadata": {
        "id": "FNPAFxVlte3k"
      },
      "outputs": [],
      "source": []
    }
  ],
  "metadata": {
    "colab": {
      "provenance": [],
      "toc_visible": true
    },
    "kernelspec": {
      "display_name": "Python 3",
      "name": "python3"
    },
    "language_info": {
      "name": "python"
    }
  },
  "nbformat": 4,
  "nbformat_minor": 0
}